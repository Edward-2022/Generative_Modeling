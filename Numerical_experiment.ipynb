{
  "nbformat": 4,
  "nbformat_minor": 0,
  "metadata": {
    "colab": {
      "name": "Numerical_experiment.ipynb",
      "provenance": [],
      "collapsed_sections": [],
      "include_colab_link": true
    },
    "kernelspec": {
      "name": "python3",
      "display_name": "Python 3"
    },
    "language_info": {
      "name": "python"
    },
    "accelerator": "GPU"
  },
  "cells": [
    {
      "cell_type": "markdown",
      "metadata": {
        "id": "view-in-github",
        "colab_type": "text"
      },
      "source": [
        "<a href=\"https://colab.research.google.com/github/Edward-2022/Generative_Modeling/blob/main/Numerical_experiment.ipynb\" target=\"_parent\"><img src=\"https://colab.research.google.com/assets/colab-badge.svg\" alt=\"Open In Colab\"/></a>"
      ]
    },
    {
      "cell_type": "code",
      "metadata": {
        "id": "GVG36qusW3Ca",
        "colab": {
          "base_uri": "https://localhost:8080/"
        },
        "outputId": "d4694718-13a1-431a-e583-2de1a480b6ef"
      },
      "source": [
        "!git clone https://github.com/Edward-2022/Generative_Modeling"
      ],
      "execution_count": null,
      "outputs": [
        {
          "output_type": "stream",
          "text": [
            "Cloning into 'Generative_Modeling'...\n",
            "remote: Enumerating objects: 149, done.\u001b[K\n",
            "remote: Counting objects: 100% (149/149), done.\u001b[K\n",
            "remote: Compressing objects: 100% (145/145), done.\u001b[K\n",
            "remote: Total 149 (delta 45), reused 0 (delta 0), pack-reused 0\u001b[K\n",
            "Receiving objects: 100% (149/149), 11.49 MiB | 17.40 MiB/s, done.\n",
            "Resolving deltas: 100% (45/45), done.\n"
          ],
          "name": "stdout"
        }
      ]
    },
    {
      "cell_type": "code",
      "metadata": {
        "colab": {
          "base_uri": "https://localhost:8080/"
        },
        "id": "8vTAzXMIZIs8",
        "outputId": "018fbf7b-57d8-4782-baee-b8e655da9443"
      },
      "source": [
        "%ls"
      ],
      "execution_count": null,
      "outputs": [
        {
          "output_type": "stream",
          "text": [
            "\u001b[0m\u001b[01;34mdata\u001b[0m/     \u001b[01;34mlib\u001b[0m/       requirements.txt  train_tabular.py   train_vae.py\n",
            "\u001b[01;34mfigures\u001b[0m/  LICENSE    train_img.py      train_toy_cond.py\n",
            "\u001b[01;34mimgs\u001b[0m/     README.md  train_ot.py       train_toy.py\n"
          ],
          "name": "stdout"
        }
      ]
    },
    {
      "cell_type": "code",
      "metadata": {
        "colab": {
          "base_uri": "https://localhost:8080/"
        },
        "id": "KsiYx1Y_ZKmV",
        "outputId": "44de38c1-e1f6-4173-e525-33f047a2c7e4"
      },
      "source": [
        "%cd Generative_Modeling"
      ],
      "execution_count": null,
      "outputs": [
        {
          "output_type": "stream",
          "text": [
            "[Errno 2] No such file or directory: 'Generative_Modeling'\n",
            "/content/Generative_Modeling\n"
          ],
          "name": "stdout"
        }
      ]
    },
    {
      "cell_type": "code",
      "metadata": {
        "id": "vjjIpC5xZTGC",
        "colab": {
          "base_uri": "https://localhost:8080/"
        },
        "outputId": "582b4d0e-a7c6-4034-9043-d91a82dfe24b"
      },
      "source": [
        "!python train_toy.py --dataset=EightGaussian --nblocks=1 --depth=20 --dimh=32 --num_epochs=2"
      ],
      "execution_count": 28,
      "outputs": [
        {
          "output_type": "stream",
          "text": [
            "# parameters 12602\n",
            "Warning: orthogonalization exceeded 10 retries.\n",
            "Warning: orthogonalization exceeded 10 retries.\n",
            "torch.Size([128, 2])\n",
            "torch.Size([128, 2, 2])\n",
            "torch.Size([128, 2, 2])\n",
            "torch.Size([128, 2])\n",
            "torch.Size([128, 2])\n",
            "torch.Size([128, 2])\n",
            "torch.Size([128, 2, 2])\n",
            "torch.Size([256, 256])\n",
            "torch.Size([128, 2, 2])\n",
            " ** On entry to DGEMM  parameter number 10 had an illegal value\n",
            "Traceback (most recent call last):\n",
            "  File \"train_toy.py\", line 180, in <module>\n",
            "    flow.logp(x.double()).mean()\n",
            "  File \"/content/Generative_Modeling/lib/flows/flows.py\", line 155, in logp\n",
            "    z, logdet = self.forward_transform(x, context=context, extra=extra)\n",
            "  File \"/content/Generative_Modeling/lib/flows/flows.py\", line 140, in forward_transform\n",
            "    extra=extra)\n",
            "  File \"/content/Generative_Modeling/lib/flows/cpflows.py\", line 116, in forward_transform\n",
            "    return self.forward_transform_stochastic(x, logdet, context=context, extra=extra)\n",
            "  File \"/content/Generative_Modeling/lib/flows/cpflows.py\", line 147, in forward_transform_stochastic\n",
            "    est1 = self.stochastic_grad_estimate_fn(hvp_fun, v1)\n",
            "  File \"/content/Generative_Modeling/lib/logdet_estimators.py\", line 258, in stochastic_logdet_gradient_estimator\n",
            "    v_Hinv = preconditioned_conjugate_gradient(hvp_fun, v, T, V, m, rtol=rtol, atol=atol)\n",
            "  File \"/content/Generative_Modeling/lib/logdet_estimators.py\", line 220, in preconditioned_conjugate_gradient\n",
            "    z = M(hvp(r), L, Z_k, r)\n",
            "  File \"/content/Generative_Modeling/lib/logdet_estimators.py\", line 243, in M\n",
            "    b_2 = torch.matmul(torch.transpose(Z_k, 1, 2), r)\n",
            "RuntimeError: CUDA error: CUBLAS_STATUS_INVALID_VALUE when calling `cublasDgemm( handle, opa, opb, m, n, k, &alpha, a, lda, b, ldb, &beta, c, ldc)`\n"
          ],
          "name": "stdout"
        }
      ]
    }
  ]
}